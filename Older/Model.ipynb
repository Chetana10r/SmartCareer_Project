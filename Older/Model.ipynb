{
 "cells": [
  {
   "cell_type": "markdown",
   "metadata": {},
   "source": [
    "# Data Preprocessing"
   ]
  },
  {
   "cell_type": "markdown",
   "metadata": {},
   "source": [
    "Import necessary libraries"
   ]
  },
  {
   "cell_type": "code",
   "execution_count": 286,
   "metadata": {},
   "outputs": [],
   "source": [
    "import pandas as pd\n",
    "import numpy as np\n",
    "import nltk\n",
    "from nltk.tokenize import word_tokenize\n",
    "from nltk.stem import WordNetLemmatizer\n",
    "from sklearn.preprocessing import LabelEncoder\n",
    "from sklearn.feature_extraction.text import TfidfVectorizer\n"
   ]
  },
  {
   "cell_type": "markdown",
   "metadata": {},
   "source": [
    "Downloading NLTK resources"
   ]
  },
  {
   "cell_type": "code",
   "execution_count": 287,
   "metadata": {},
   "outputs": [
    {
     "name": "stderr",
     "output_type": "stream",
     "text": [
      "[nltk_data] Downloading package punkt to\n",
      "[nltk_data]     C:\\Users\\cheta\\AppData\\Roaming\\nltk_data...\n",
      "[nltk_data]   Package punkt is already up-to-date!\n",
      "[nltk_data] Downloading package wordnet to\n",
      "[nltk_data]     C:\\Users\\cheta\\AppData\\Roaming\\nltk_data...\n",
      "[nltk_data]   Package wordnet is already up-to-date!\n"
     ]
    },
    {
     "data": {
      "text/plain": [
       "True"
      ]
     },
     "execution_count": 287,
     "metadata": {},
     "output_type": "execute_result"
    }
   ],
   "source": [
    "nltk.download('punkt')\n",
    "nltk.download('wordnet')\n"
   ]
  },
  {
   "cell_type": "markdown",
   "metadata": {},
   "source": [
    "Load Datasets"
   ]
  },
  {
   "cell_type": "code",
   "execution_count": 288,
   "metadata": {},
   "outputs": [],
   "source": [
    "it_data = pd.read_csv('it_dataset.csv')\n",
    "non_it_data = pd.read_csv('non_it_dataset.csv')"
   ]
  },
  {
   "cell_type": "code",
   "execution_count": 289,
   "metadata": {},
   "outputs": [
    {
     "data": {
      "text/html": [
       "<div>\n",
       "<style scoped>\n",
       "    .dataframe tbody tr th:only-of-type {\n",
       "        vertical-align: middle;\n",
       "    }\n",
       "\n",
       "    .dataframe tbody tr th {\n",
       "        vertical-align: top;\n",
       "    }\n",
       "\n",
       "    .dataframe thead th {\n",
       "        text-align: right;\n",
       "    }\n",
       "</style>\n",
       "<table border=\"1\" class=\"dataframe\">\n",
       "  <thead>\n",
       "    <tr style=\"text-align: right;\">\n",
       "      <th></th>\n",
       "      <th>Job Role</th>\n",
       "      <th>Skills</th>\n",
       "      <th>Certifications</th>\n",
       "      <th>Courses</th>\n",
       "      <th>Projects</th>\n",
       "      <th>Experience Level</th>\n",
       "      <th>Education</th>\n",
       "      <th>Industry</th>\n",
       "      <th>Keywords</th>\n",
       "      <th>Technologies</th>\n",
       "    </tr>\n",
       "  </thead>\n",
       "  <tbody>\n",
       "    <tr>\n",
       "      <th>0</th>\n",
       "      <td>DevOps Engineer</td>\n",
       "      <td>ReactJS, Java, Docker, C++, TensorFlow</td>\n",
       "      <td>Oracle Certified DBA</td>\n",
       "      <td>Data Structures, Cybersecurity Fundamentals, C...</td>\n",
       "      <td>Data Visualization Tool</td>\n",
       "      <td>Senior</td>\n",
       "      <td>B.Tech in Computer Science</td>\n",
       "      <td>Cybersecurity</td>\n",
       "      <td>C++, SQL</td>\n",
       "      <td>Git, Kubernetes, Docker</td>\n",
       "    </tr>\n",
       "    <tr>\n",
       "      <th>1</th>\n",
       "      <td>AI Engineer</td>\n",
       "      <td>SQL, Docker, Java, Kubernetes</td>\n",
       "      <td>Certified Data Scientist, Oracle Certified DBA</td>\n",
       "      <td>Cybersecurity Fundamentals, Machine Learning, ...</td>\n",
       "      <td>Fake News Detection, Network Security System</td>\n",
       "      <td>Mid</td>\n",
       "      <td>B.Tech in Computer Science</td>\n",
       "      <td>Cybersecurity</td>\n",
       "      <td>NodeJS, C++, Python</td>\n",
       "      <td>Kubernetes, Azure, Docker</td>\n",
       "    </tr>\n",
       "    <tr>\n",
       "      <th>2</th>\n",
       "      <td>Backend Developer</td>\n",
       "      <td>Docker, SQL, NodeJS</td>\n",
       "      <td>Certified Data Scientist, Google Cloud Profess...</td>\n",
       "      <td>Web Development, Cloud Computing</td>\n",
       "      <td>E-commerce Website</td>\n",
       "      <td>Entry</td>\n",
       "      <td>Diploma in IT</td>\n",
       "      <td>AI</td>\n",
       "      <td>Docker, Kubernetes</td>\n",
       "      <td>Azure, Kubernetes, Git</td>\n",
       "    </tr>\n",
       "    <tr>\n",
       "      <th>3</th>\n",
       "      <td>Software Engineer</td>\n",
       "      <td>Kubernetes, NodeJS, Docker</td>\n",
       "      <td>Google Cloud Professional, Certified Data Scie...</td>\n",
       "      <td>Cybersecurity Fundamentals, Data Structures, M...</td>\n",
       "      <td>E-commerce Website, Chatbot Development</td>\n",
       "      <td>Mid</td>\n",
       "      <td>MCA</td>\n",
       "      <td>IT</td>\n",
       "      <td>Docker, Java, Python, TensorFlow</td>\n",
       "      <td>Kubernetes, Git, Azure</td>\n",
       "    </tr>\n",
       "    <tr>\n",
       "      <th>4</th>\n",
       "      <td>Cybersecurity Analyst</td>\n",
       "      <td>Java, C++, Docker, ReactJS</td>\n",
       "      <td>Oracle Certified DBA, Microsoft Azure Administ...</td>\n",
       "      <td>Cybersecurity Fundamentals, Web Development, M...</td>\n",
       "      <td>Data Visualization Tool, E-commerce Website</td>\n",
       "      <td>Mid</td>\n",
       "      <td>B.Tech in Computer Science</td>\n",
       "      <td>Cloud Computing</td>\n",
       "      <td>JavaScript, TensorFlow, Python, NodeJS</td>\n",
       "      <td>Azure, Docker, AWS</td>\n",
       "    </tr>\n",
       "  </tbody>\n",
       "</table>\n",
       "</div>"
      ],
      "text/plain": [
       "                Job Role                                  Skills  \\\n",
       "0        DevOps Engineer  ReactJS, Java, Docker, C++, TensorFlow   \n",
       "1            AI Engineer           SQL, Docker, Java, Kubernetes   \n",
       "2      Backend Developer                     Docker, SQL, NodeJS   \n",
       "3      Software Engineer              Kubernetes, NodeJS, Docker   \n",
       "4  Cybersecurity Analyst              Java, C++, Docker, ReactJS   \n",
       "\n",
       "                                      Certifications  \\\n",
       "0                               Oracle Certified DBA   \n",
       "1     Certified Data Scientist, Oracle Certified DBA   \n",
       "2  Certified Data Scientist, Google Cloud Profess...   \n",
       "3  Google Cloud Professional, Certified Data Scie...   \n",
       "4  Oracle Certified DBA, Microsoft Azure Administ...   \n",
       "\n",
       "                                             Courses  \\\n",
       "0  Data Structures, Cybersecurity Fundamentals, C...   \n",
       "1  Cybersecurity Fundamentals, Machine Learning, ...   \n",
       "2                   Web Development, Cloud Computing   \n",
       "3  Cybersecurity Fundamentals, Data Structures, M...   \n",
       "4  Cybersecurity Fundamentals, Web Development, M...   \n",
       "\n",
       "                                       Projects Experience Level  \\\n",
       "0                       Data Visualization Tool           Senior   \n",
       "1  Fake News Detection, Network Security System              Mid   \n",
       "2                            E-commerce Website            Entry   \n",
       "3       E-commerce Website, Chatbot Development              Mid   \n",
       "4   Data Visualization Tool, E-commerce Website              Mid   \n",
       "\n",
       "                    Education         Industry  \\\n",
       "0  B.Tech in Computer Science    Cybersecurity   \n",
       "1  B.Tech in Computer Science    Cybersecurity   \n",
       "2               Diploma in IT               AI   \n",
       "3                         MCA               IT   \n",
       "4  B.Tech in Computer Science  Cloud Computing   \n",
       "\n",
       "                                 Keywords               Technologies  \n",
       "0                                C++, SQL    Git, Kubernetes, Docker  \n",
       "1                     NodeJS, C++, Python  Kubernetes, Azure, Docker  \n",
       "2                      Docker, Kubernetes     Azure, Kubernetes, Git  \n",
       "3        Docker, Java, Python, TensorFlow     Kubernetes, Git, Azure  \n",
       "4  JavaScript, TensorFlow, Python, NodeJS         Azure, Docker, AWS  "
      ]
     },
     "execution_count": 289,
     "metadata": {},
     "output_type": "execute_result"
    }
   ],
   "source": [
    "it_data.head()"
   ]
  },
  {
   "cell_type": "code",
   "execution_count": 290,
   "metadata": {},
   "outputs": [
    {
     "data": {
      "text/plain": [
       "(1000, 10)"
      ]
     },
     "execution_count": 290,
     "metadata": {},
     "output_type": "execute_result"
    }
   ],
   "source": [
    "it_data.shape"
   ]
  },
  {
   "cell_type": "code",
   "execution_count": 291,
   "metadata": {},
   "outputs": [
    {
     "data": {
      "text/html": [
       "<div>\n",
       "<style scoped>\n",
       "    .dataframe tbody tr th:only-of-type {\n",
       "        vertical-align: middle;\n",
       "    }\n",
       "\n",
       "    .dataframe tbody tr th {\n",
       "        vertical-align: top;\n",
       "    }\n",
       "\n",
       "    .dataframe thead th {\n",
       "        text-align: right;\n",
       "    }\n",
       "</style>\n",
       "<table border=\"1\" class=\"dataframe\">\n",
       "  <thead>\n",
       "    <tr style=\"text-align: right;\">\n",
       "      <th></th>\n",
       "      <th>Job Role</th>\n",
       "      <th>Skills</th>\n",
       "      <th>Certifications</th>\n",
       "      <th>Courses</th>\n",
       "      <th>Projects</th>\n",
       "      <th>Experience Level</th>\n",
       "      <th>Education</th>\n",
       "      <th>Industry</th>\n",
       "      <th>Keywords</th>\n",
       "      <th>Technologies</th>\n",
       "    </tr>\n",
       "  </thead>\n",
       "  <tbody>\n",
       "    <tr>\n",
       "      <th>0</th>\n",
       "      <td>Marketing Manager</td>\n",
       "      <td>Customer Service, Data Analysis, Project Manag...</td>\n",
       "      <td>Certified HR Professional, PMP, Certified Fina...</td>\n",
       "      <td>Marketing Strategies, Project Coordination, Bu...</td>\n",
       "      <td>Supply Chain Optimization, Sales Strategy Deve...</td>\n",
       "      <td>Senior</td>\n",
       "      <td>MBA</td>\n",
       "      <td>Operations</td>\n",
       "      <td>Problem Solving, Data Analysis</td>\n",
       "      <td>PowerPoint, SAP</td>\n",
       "    </tr>\n",
       "    <tr>\n",
       "      <th>1</th>\n",
       "      <td>HR Specialist</td>\n",
       "      <td>Market Research, Data Analysis, Budgeting</td>\n",
       "      <td>Digital Marketing Associate, Lean Six Sigma</td>\n",
       "      <td>Project Coordination, Financial Accounting, Ma...</td>\n",
       "      <td>Sales Strategy Development</td>\n",
       "      <td>Mid</td>\n",
       "      <td>MBA</td>\n",
       "      <td>Operations</td>\n",
       "      <td>Training, Leadership, Market Research, Budgeting</td>\n",
       "      <td>SAP, CRM Systems</td>\n",
       "    </tr>\n",
       "    <tr>\n",
       "      <th>2</th>\n",
       "      <td>Business Analyst</td>\n",
       "      <td>Data Analysis, Communication, Problem Solving,...</td>\n",
       "      <td>PMP, Certified Financial Analyst, Digital Mark...</td>\n",
       "      <td>Business Management, Project Coordination</td>\n",
       "      <td>Employee Engagement Survey</td>\n",
       "      <td>Mid</td>\n",
       "      <td>MBA</td>\n",
       "      <td>Marketing</td>\n",
       "      <td>Training, Data Analysis</td>\n",
       "      <td>Business Intelligence Tools, CRM Systems, SAP</td>\n",
       "    </tr>\n",
       "    <tr>\n",
       "      <th>3</th>\n",
       "      <td>HR Specialist</td>\n",
       "      <td>Sales Strategy, Budgeting, Data Analysis, Trai...</td>\n",
       "      <td>PMP, Lean Six Sigma</td>\n",
       "      <td>Marketing Strategies, Leadership Skills, Busin...</td>\n",
       "      <td>Supply Chain Optimization, Customer Satisfacti...</td>\n",
       "      <td>Senior</td>\n",
       "      <td>MBA</td>\n",
       "      <td>Marketing</td>\n",
       "      <td>Market Research, Sales Strategy, Training, Pro...</td>\n",
       "      <td>Excel, Business Intelligence Tools</td>\n",
       "    </tr>\n",
       "    <tr>\n",
       "      <th>4</th>\n",
       "      <td>HR Specialist</td>\n",
       "      <td>Budgeting, Training, Sales Strategy</td>\n",
       "      <td>Lean Six Sigma, PMP, Certified HR Professional</td>\n",
       "      <td>Business Management, Financial Accounting</td>\n",
       "      <td>Employee Engagement Survey</td>\n",
       "      <td>Mid</td>\n",
       "      <td>MBA</td>\n",
       "      <td>Operations</td>\n",
       "      <td>Sales Strategy, Project Management</td>\n",
       "      <td>CRM Systems, Business Intelligence Tools</td>\n",
       "    </tr>\n",
       "  </tbody>\n",
       "</table>\n",
       "</div>"
      ],
      "text/plain": [
       "            Job Role                                             Skills  \\\n",
       "0  Marketing Manager  Customer Service, Data Analysis, Project Manag...   \n",
       "1      HR Specialist          Market Research, Data Analysis, Budgeting   \n",
       "2   Business Analyst  Data Analysis, Communication, Problem Solving,...   \n",
       "3      HR Specialist  Sales Strategy, Budgeting, Data Analysis, Trai...   \n",
       "4      HR Specialist                Budgeting, Training, Sales Strategy   \n",
       "\n",
       "                                      Certifications  \\\n",
       "0  Certified HR Professional, PMP, Certified Fina...   \n",
       "1        Digital Marketing Associate, Lean Six Sigma   \n",
       "2  PMP, Certified Financial Analyst, Digital Mark...   \n",
       "3                                PMP, Lean Six Sigma   \n",
       "4     Lean Six Sigma, PMP, Certified HR Professional   \n",
       "\n",
       "                                             Courses  \\\n",
       "0  Marketing Strategies, Project Coordination, Bu...   \n",
       "1  Project Coordination, Financial Accounting, Ma...   \n",
       "2          Business Management, Project Coordination   \n",
       "3  Marketing Strategies, Leadership Skills, Busin...   \n",
       "4          Business Management, Financial Accounting   \n",
       "\n",
       "                                            Projects Experience Level  \\\n",
       "0  Supply Chain Optimization, Sales Strategy Deve...           Senior   \n",
       "1                         Sales Strategy Development              Mid   \n",
       "2                         Employee Engagement Survey              Mid   \n",
       "3  Supply Chain Optimization, Customer Satisfacti...           Senior   \n",
       "4                         Employee Engagement Survey              Mid   \n",
       "\n",
       "  Education    Industry                                           Keywords  \\\n",
       "0       MBA  Operations                     Problem Solving, Data Analysis   \n",
       "1       MBA  Operations   Training, Leadership, Market Research, Budgeting   \n",
       "2       MBA   Marketing                            Training, Data Analysis   \n",
       "3       MBA   Marketing  Market Research, Sales Strategy, Training, Pro...   \n",
       "4       MBA  Operations                 Sales Strategy, Project Management   \n",
       "\n",
       "                                    Technologies  \n",
       "0                                PowerPoint, SAP  \n",
       "1                               SAP, CRM Systems  \n",
       "2  Business Intelligence Tools, CRM Systems, SAP  \n",
       "3             Excel, Business Intelligence Tools  \n",
       "4       CRM Systems, Business Intelligence Tools  "
      ]
     },
     "execution_count": 291,
     "metadata": {},
     "output_type": "execute_result"
    }
   ],
   "source": [
    "non_it_data.head()"
   ]
  },
  {
   "cell_type": "code",
   "execution_count": 292,
   "metadata": {},
   "outputs": [
    {
     "data": {
      "text/plain": [
       "(1000, 10)"
      ]
     },
     "execution_count": 292,
     "metadata": {},
     "output_type": "execute_result"
    }
   ],
   "source": [
    "non_it_data.shape"
   ]
  },
  {
   "cell_type": "markdown",
   "metadata": {},
   "source": [
    "Handling Missing Values"
   ]
  },
  {
   "cell_type": "code",
   "execution_count": 293,
   "metadata": {},
   "outputs": [],
   "source": [
    "it_data.fillna(\"None\", inplace=True)\n",
    "non_it_data.fillna(\"None\", inplace=True)"
   ]
  },
  {
   "cell_type": "markdown",
   "metadata": {},
   "source": [
    "Text Preprocessing"
   ]
  },
  {
   "cell_type": "code",
   "execution_count": 294,
   "metadata": {},
   "outputs": [],
   "source": [
    "lemmatizer = WordNetLemmatizer()"
   ]
  },
  {
   "cell_type": "code",
   "execution_count": 295,
   "metadata": {},
   "outputs": [],
   "source": [
    "def preprocess_text(df, columns):\n",
    "    for col in columns:\n",
    "        df[col] = df[col].str.lower()\n",
    "        df[col] = df[col].apply(lambda x: ' '.join([lemmatizer.lemmatize(word) for word in word_tokenize(x)]))\n",
    "    return df"
   ]
  },
  {
   "cell_type": "code",
   "execution_count": 296,
   "metadata": {},
   "outputs": [],
   "source": [
    "text_columns = ['Skills', 'Projects', 'Certifications', 'Courses', 'Technologies']\n",
    "it_data = preprocess_text(it_data, text_columns)\n",
    "non_it_data = preprocess_text(non_it_data, text_columns)"
   ]
  },
  {
   "cell_type": "markdown",
   "metadata": {},
   "source": [
    "Encoding Job Roles"
   ]
  },
  {
   "cell_type": "code",
   "execution_count": 297,
   "metadata": {},
   "outputs": [],
   "source": [
    "combined_labels = pd.concat([it_data['Job Role'], non_it_data['Job Role']])\n",
    "label_encoder = LabelEncoder()\n",
    "combined_y = label_encoder.fit_transform(combined_labels)\n",
    "y_it = combined_y[:len(it_data)]\n",
    "y_non_it = combined_y[len(it_data):]"
   ]
  },
  {
   "cell_type": "markdown",
   "metadata": {},
   "source": [
    "Vectorizing Text Data"
   ]
  },
  {
   "cell_type": "code",
   "execution_count": 298,
   "metadata": {},
   "outputs": [],
   "source": [
    "combined_data = pd.concat([it_data, non_it_data])\n",
    "vectorizer = TfidfVectorizer(max_features=5000)\n",
    "X_combined = vectorizer.fit_transform(combined_data['Skills'] + ' ' + combined_data['Projects']).toarray()\n",
    "\n",
    "X_it = X_combined[:len(it_data)]\n",
    "X_non_it = X_combined[len(it_data):]\n"
   ]
  },
  {
   "cell_type": "code",
   "execution_count": 299,
   "metadata": {},
   "outputs": [
    {
     "name": "stdout",
     "output_type": "stream",
     "text": [
      "Data Preprocessing Completed!\n"
     ]
    }
   ],
   "source": [
    "print(\"Data Preprocessing Completed!\")"
   ]
  },
  {
   "cell_type": "markdown",
   "metadata": {},
   "source": [
    "# Feature Engineering Model"
   ]
  },
  {
   "cell_type": "code",
   "execution_count": 300,
   "metadata": {},
   "outputs": [],
   "source": [
    "from sklearn.feature_extraction.text import TfidfVectorizer\n",
    "from sklearn.preprocessing import LabelEncoder\n",
    "from sklearn.model_selection import train_test_split\n",
    "from sklearn.ensemble import RandomForestClassifier\n",
    "from sklearn.metrics import classification_report, accuracy_score\n",
    "import pickle"
   ]
  },
  {
   "cell_type": "markdown",
   "metadata": {},
   "source": [
    "Train-Test Split"
   ]
  },
  {
   "cell_type": "code",
   "execution_count": 301,
   "metadata": {},
   "outputs": [],
   "source": [
    "X_train_it, X_test_it, y_train_it, y_test_it = train_test_split(X_it, y_it, test_size=0.2, random_state=42)\n",
    "X_train_non_it, X_test_non_it, y_train_non_it, y_test_non_it = train_test_split(X_non_it, y_non_it, test_size=0.2, random_state=42)\n"
   ]
  },
  {
   "cell_type": "markdown",
   "metadata": {},
   "source": [
    "Model Building - Random Forest Classifier with GridSearch"
   ]
  },
  {
   "cell_type": "code",
   "execution_count": 302,
   "metadata": {},
   "outputs": [],
   "source": [
    "param_grid = {\n",
    "    'n_estimators': [100, 200],\n",
    "    'max_depth': [None, 20],\n",
    "    'min_samples_split': [2, 5]\n",
    "}"
   ]
  },
  {
   "cell_type": "markdown",
   "metadata": {},
   "source": [
    "Train IT Model"
   ]
  },
  {
   "cell_type": "code",
   "execution_count": 303,
   "metadata": {},
   "outputs": [],
   "source": [
    "def train_model(X_train, y_train):\n",
    "    grid_search = GridSearchCV(RandomForestClassifier(), param_grid, cv=5, scoring='accuracy')\n",
    "    grid_search.fit(X_train, y_train)\n",
    "    print(\"Best Parameters:\", grid_search.best_params_)\n",
    "    return grid_search.best_estimator_"
   ]
  },
  {
   "cell_type": "code",
   "execution_count": 304,
   "metadata": {},
   "outputs": [
    {
     "name": "stdout",
     "output_type": "stream",
     "text": [
      "Best Parameters: {'max_depth': 20, 'min_samples_split': 5, 'n_estimators': 100}\n"
     ]
    }
   ],
   "source": [
    "rf_it = train_model(X_train_it, y_train_it)"
   ]
  },
  {
   "cell_type": "markdown",
   "metadata": {},
   "source": [
    "Train Non-IT Model"
   ]
  },
  {
   "cell_type": "code",
   "execution_count": 305,
   "metadata": {},
   "outputs": [
    {
     "name": "stdout",
     "output_type": "stream",
     "text": [
      "Best Parameters: {'max_depth': None, 'min_samples_split': 5, 'n_estimators': 100}\n"
     ]
    }
   ],
   "source": [
    "rf_non_it = train_model(X_train_non_it, y_train_non_it)"
   ]
  },
  {
   "cell_type": "markdown",
   "metadata": {},
   "source": [
    "Model Evaluation"
   ]
  },
  {
   "cell_type": "code",
   "execution_count": 306,
   "metadata": {},
   "outputs": [],
   "source": [
    "def evaluate_model(model, X_test, y_test, label):\n",
    "    y_pred = model.predict(X_test)\n",
    "    accuracy = accuracy_score(y_test, y_pred)\n",
    "    print(f'{label} Model Accuracy: {accuracy}')\n",
    "    print(f'{label} Classification Report:\\n', classification_report(y_test, y_pred))\n"
   ]
  },
  {
   "cell_type": "code",
   "execution_count": 307,
   "metadata": {},
   "outputs": [
    {
     "name": "stdout",
     "output_type": "stream",
     "text": [
      "IT Model Accuracy: 0.075\n",
      "IT Classification Report:\n",
      "               precision    recall  f1-score   support\n",
      "\n",
      "           0       0.00      0.00      0.00        22\n",
      "           1       0.00      0.00      0.00        11\n",
      "           3       0.00      0.00      0.00        18\n",
      "           5       0.12      0.08      0.10        26\n",
      "           6       0.25      0.12      0.16        26\n",
      "           7       0.06      0.07      0.06        15\n",
      "           8       0.04      0.06      0.05        17\n",
      "          10       0.12      0.07      0.09        27\n",
      "          11       0.08      0.10      0.09        20\n",
      "          18       0.15      0.22      0.18        18\n",
      "\n",
      "    accuracy                           0.07       200\n",
      "   macro avg       0.08      0.07      0.07       200\n",
      "weighted avg       0.10      0.07      0.08       200\n",
      "\n",
      "Non-IT Model Accuracy: 0.105\n",
      "Non-IT Classification Report:\n",
      "               precision    recall  f1-score   support\n",
      "\n",
      "           2       0.10      0.12      0.11        25\n",
      "           4       0.18      0.19      0.19        26\n",
      "           9       0.00      0.00      0.00        12\n",
      "          12       0.09      0.06      0.07        18\n",
      "          13       0.11      0.06      0.08        31\n",
      "          14       0.26      0.24      0.25        21\n",
      "          15       0.11      0.10      0.10        21\n",
      "          16       0.05      0.05      0.05        22\n",
      "          17       0.06      0.17      0.09        12\n",
      "          19       0.00      0.00      0.00        12\n",
      "\n",
      "    accuracy                           0.10       200\n",
      "   macro avg       0.10      0.10      0.09       200\n",
      "weighted avg       0.11      0.10      0.10       200\n",
      "\n"
     ]
    }
   ],
   "source": [
    "evaluate_model(rf_it, X_test_it, y_test_it, \"IT\")\n",
    "evaluate_model(rf_non_it, X_test_non_it, y_test_non_it, \"Non-IT\")"
   ]
  },
  {
   "cell_type": "code",
   "execution_count": 308,
   "metadata": {},
   "outputs": [
    {
     "name": "stdout",
     "output_type": "stream",
     "text": [
      "Best Parameters: {'max_depth': 10, 'min_samples_split': 5, 'n_estimators': 100}\n",
      "Best Accuracy: 0.14125000000000001\n"
     ]
    }
   ],
   "source": [
    "from sklearn.model_selection import GridSearchCV\n",
    "\n",
    "param_grid = {\n",
    "    'n_estimators': [50, 100, 200],\n",
    "    'max_depth': [None, 10, 20, 30],\n",
    "    'min_samples_split': [2, 5, 10]\n",
    "}\n",
    "\n",
    "grid_search = GridSearchCV(RandomForestClassifier(), param_grid, cv=5, scoring='accuracy')\n",
    "grid_search.fit(X_train_it, y_train_it)\n",
    "\n",
    "print(\"Best Parameters:\", grid_search.best_params_)\n",
    "print(\"Best Accuracy:\", grid_search.best_score_)\n"
   ]
  },
  {
   "cell_type": "markdown",
   "metadata": {},
   "source": [
    "Save Models"
   ]
  },
  {
   "cell_type": "code",
   "execution_count": 309,
   "metadata": {},
   "outputs": [],
   "source": [
    "def save_model(model, filename):\n",
    "    with open(filename, 'wb') as file:\n",
    "        pickle.dump(model, file)\n",
    "    print(f'Model saved as {filename}')"
   ]
  },
  {
   "cell_type": "code",
   "execution_count": 310,
   "metadata": {},
   "outputs": [
    {
     "name": "stdout",
     "output_type": "stream",
     "text": [
      "Model saved as it_model.pkl\n",
      "Model saved as non_it_model.pkl\n"
     ]
    }
   ],
   "source": [
    "save_model(rf_it, 'it_model.pkl')\n",
    "save_model(rf_non_it, 'non_it_model.pkl')"
   ]
  },
  {
   "cell_type": "markdown",
   "metadata": {},
   "source": [
    "Recommendation and Skills"
   ]
  },
  {
   "cell_type": "code",
   "execution_count": 311,
   "metadata": {},
   "outputs": [],
   "source": [
    "def load_model(filename):\n",
    "    try:\n",
    "        with open(filename, 'rb') as file:\n",
    "            return pickle.load(file)\n",
    "    except Exception as e:\n",
    "        print(f\"Error loading model: {e}\")\n",
    "        return None"
   ]
  },
  {
   "cell_type": "code",
   "execution_count": 312,
   "metadata": {},
   "outputs": [],
   "source": [
    "def recommend_job(project_desc, model, vectorizer, label_encoder):\n",
    "    vector = vectorizer.transform([project_desc])\n",
    "    prediction = model.predict(vector)\n",
    "    return label_encoder.inverse_transform(prediction)[0]\n"
   ]
  },
  {
   "cell_type": "code",
   "execution_count": 313,
   "metadata": {},
   "outputs": [],
   "source": [
    "def suggest_missing_skills(resume_skills, job_role, skills_dict):\n",
    "    required_skills = skills_dict.get(job_role, [])\n",
    "    missing_skills = [skill for skill in required_skills if skill not in resume_skills]\n",
    "    return missing_skills"
   ]
  },
  {
   "cell_type": "code",
   "execution_count": 314,
   "metadata": {},
   "outputs": [],
   "source": [
    "def recommend_courses_and_certs(missing_skills, courses_dict, certs_dict):\n",
    "    recommended_courses = []\n",
    "    recommended_certs = []\n",
    "    for skill in missing_skills:\n",
    "        recommended_courses.extend(courses_dict.get(skill, []))\n",
    "        recommended_certs.extend(certs_dict.get(skill, []))\n",
    "    return recommended_courses, recommended_certs"
   ]
  },
  {
   "cell_type": "code",
   "execution_count": 315,
   "metadata": {},
   "outputs": [
    {
     "name": "stdout",
     "output_type": "stream",
     "text": [
      "Recommended Job Role: DevOps Engineer\n"
     ]
    }
   ],
   "source": [
    "\n",
    "# Example Prediction\n",
    "project_example = 'Developed an AI chatbot using Python and NLP techniques'\n",
    "job_role = recommend_job(project_example, rf_it, vectorizer, label_encoder)\n",
    "print(f'Recommended Job Role: {job_role}')"
   ]
  },
  {
   "cell_type": "code",
   "execution_count": 316,
   "metadata": {},
   "outputs": [
    {
     "name": "stdout",
     "output_type": "stream",
     "text": [
      "Missing Skills: []\n",
      "Recommended Courses: []\n",
      "Recommended Certifications: []\n",
      "Model training and recommendation completed!\n"
     ]
    }
   ],
   "source": [
    "# Missing Skills and Recommendations\n",
    "skills_dict = {'Data Scientist': ['Python', 'ML', 'Data Analysis'], 'Web Developer': ['HTML', 'CSS', 'JavaScript']}\n",
    "courses_dict = {'Python': ['Python for Data Science', 'Advanced Python'], 'ML': ['Machine Learning A-Z']}\n",
    "certs_dict = {'Python': ['Python Certification by Coursera'], 'ML': ['Machine Learning Certification by Stanford']}\n",
    "\n",
    "resume_skills = ['Python', 'Data Analysis']\n",
    "missing_skills = suggest_missing_skills(resume_skills, job_role, skills_dict)\n",
    "recommended_courses, recommended_certs = recommend_courses_and_certs(missing_skills, courses_dict, certs_dict)\n",
    "\n",
    "print(f'Missing Skills: {missing_skills}')\n",
    "print(f'Recommended Courses: {recommended_courses}')\n",
    "print(f'Recommended Certifications: {recommended_certs}')\n",
    "print('Model training and recommendation completed!')"
   ]
  }
 ],
 "metadata": {
  "kernelspec": {
   "display_name": "base",
   "language": "python",
   "name": "python3"
  },
  "language_info": {
   "codemirror_mode": {
    "name": "ipython",
    "version": 3
   },
   "file_extension": ".py",
   "mimetype": "text/x-python",
   "name": "python",
   "nbconvert_exporter": "python",
   "pygments_lexer": "ipython3",
   "version": "3.12.7"
  }
 },
 "nbformat": 4,
 "nbformat_minor": 2
}
