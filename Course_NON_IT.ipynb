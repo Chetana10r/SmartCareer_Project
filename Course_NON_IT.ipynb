{
 "cells": [
  {
   "cell_type": "code",
   "execution_count": 38,
   "metadata": {},
   "outputs": [],
   "source": [
    "import pandas as pd\n",
    "import re\n",
    "import string\n",
    "import spacy\n",
    "import joblib\n",
    "from sklearn.feature_extraction.text import TfidfVectorizer\n",
    "from sklearn.linear_model import LogisticRegression\n",
    "from sklearn.model_selection import train_test_split\n",
    "from sklearn.metrics import classification_report\n"
   ]
  },
  {
   "cell_type": "code",
   "execution_count": 39,
   "metadata": {},
   "outputs": [],
   "source": [
    "# Load SpaCy model\n",
    "nlp = spacy.load(\"en_core_web_sm\")"
   ]
  },
  {
   "cell_type": "code",
   "execution_count": 40,
   "metadata": {},
   "outputs": [],
   "source": [
    "\n",
    "# ---------- Parameters ----------\n",
    "DATASET_PATH = \"resume_data_Non_IT_5000_updated.csv\"\n",
    "SKILL_LIST = ['communication', 'excel', 'salesforce', 'customer support', 'team management', 'public speaking']\n",
    "COURSE_MODEL_NAME = \"NonIT_course_model.pkl\"\n",
    "CERT_MODEL_NAME = \"NonIT_cert_model.pkl\"\n",
    "TFIDF_NAME = \"NonIT_coursecert_tfidf.pkl\""
   ]
  },
  {
   "cell_type": "code",
   "execution_count": 41,
   "metadata": {},
   "outputs": [],
   "source": [
    "# ---------- Text Preprocessing ----------\n",
    "def clean_text(text):\n",
    "    text = re.sub(r\"<[^>]+>\", \"\", str(text))\n",
    "    text = text.translate(str.maketrans(\"\", \"\", string.punctuation))\n",
    "    text = text.lower()\n",
    "    text = re.sub(r\"\\s+\", \" \", text)\n",
    "    return text\n",
    "\n",
    "def lemmatize_text(text):\n",
    "    doc = nlp(text)\n",
    "    return \" \".join([token.lemma_ for token in doc if not token.is_punct])\n",
    "\n",
    "def extract_skills(text, skill_list):\n",
    "    return [skill for skill in skill_list if skill in text]\n",
    "\n",
    "def get_missing_skills(resume_skills, required_skills_str):\n",
    "    required_skills = [skill.strip().lower() for skill in str(required_skills_str).split(',')]\n",
    "    return list(set(required_skills) - set(resume_skills))"
   ]
  },
  {
   "cell_type": "code",
   "execution_count": 42,
   "metadata": {},
   "outputs": [],
   "source": [
    "# ---------- Load and Process Data ----------\n",
    "df = pd.read_csv(DATASET_PATH)"
   ]
  },
  {
   "cell_type": "code",
   "execution_count": 43,
   "metadata": {},
   "outputs": [],
   "source": [
    "# Fill missing text columns\n",
    "df[\"Keywords\"] = df[\"Keywords\"].fillna(\"\")\n",
    "df[\"Technologies\"] = df[\"Technologies\"].fillna(\"\")\n",
    "df[\"Skills\"] = df[\"Skills\"].fillna(\"\")\n",
    "df[\"Courses\"] = df[\"Courses\"].fillna(\"\")\n",
    "df[\"Certifications\"] = df[\"Certifications\"].fillna(\"\")"
   ]
  },
  {
   "cell_type": "code",
   "execution_count": 44,
   "metadata": {},
   "outputs": [],
   "source": [
    "# Combine text from resume fields\n",
    "df[\"combined\"] = df[\"Keywords\"] + \" \" + df[\"Technologies\"]\n",
    "df[\"cleaned\"] = df[\"combined\"].apply(clean_text).apply(lemmatize_text)"
   ]
  },
  {
   "cell_type": "code",
   "execution_count": 45,
   "metadata": {},
   "outputs": [],
   "source": [
    "# Extract skills from resume\n",
    "df[\"skills_extracted\"] = df[\"cleaned\"].apply(lambda x: extract_skills(x, SKILL_LIST))"
   ]
  },
  {
   "cell_type": "code",
   "execution_count": 46,
   "metadata": {},
   "outputs": [],
   "source": [
    "# Compute missing skills using required skills in 'Skills' column\n",
    "df[\"missing_skills\"] = df.apply(lambda row: get_missing_skills(row[\"skills_extracted\"], row[\"Skills\"]), axis=1)\n",
    "df[\"missing_skills_str\"] = df[\"missing_skills\"].apply(lambda x: \" \".join(x))"
   ]
  },
  {
   "cell_type": "code",
   "execution_count": 47,
   "metadata": {},
   "outputs": [],
   "source": [
    "# TF-IDF feature extraction from missing skills\n",
    "tfidf = TfidfVectorizer()\n",
    "X = tfidf.fit_transform(df[\"missing_skills_str\"])"
   ]
  },
  {
   "cell_type": "code",
   "execution_count": 48,
   "metadata": {},
   "outputs": [
    {
     "name": "stdout",
     "output_type": "stream",
     "text": [
      "Course Recommender Evaluation:\n",
      "                                                   precision    recall  f1-score   support\n",
      "\n",
      "                           Advanced Excel Course       0.14      0.31      0.20       163\n",
      "Advanced Excel Course, Customer Service Training       0.00      0.00      0.00       175\n",
      "                       Customer Service Training       0.00      0.00      0.00       153\n",
      "                             Salesforce Training       0.18      0.65      0.29       186\n",
      "      Salesforce Training, Advanced Excel Course       0.00      0.00      0.00       169\n",
      "  Salesforce Training, Customer Service Training       0.00      0.00      0.00       154\n",
      "\n",
      "                                        accuracy                           0.17      1000\n",
      "                                       macro avg       0.05      0.16      0.08      1000\n",
      "                                    weighted avg       0.06      0.17      0.09      1000\n",
      "\n"
     ]
    },
    {
     "name": "stderr",
     "output_type": "stream",
     "text": [
      "c:\\Users\\cheta\\anaconda3\\Lib\\site-packages\\sklearn\\metrics\\_classification.py:1531: UndefinedMetricWarning: Precision is ill-defined and being set to 0.0 in labels with no predicted samples. Use `zero_division` parameter to control this behavior.\n",
      "  _warn_prf(average, modifier, f\"{metric.capitalize()} is\", len(result))\n",
      "c:\\Users\\cheta\\anaconda3\\Lib\\site-packages\\sklearn\\metrics\\_classification.py:1531: UndefinedMetricWarning: Precision is ill-defined and being set to 0.0 in labels with no predicted samples. Use `zero_division` parameter to control this behavior.\n",
      "  _warn_prf(average, modifier, f\"{metric.capitalize()} is\", len(result))\n",
      "c:\\Users\\cheta\\anaconda3\\Lib\\site-packages\\sklearn\\metrics\\_classification.py:1531: UndefinedMetricWarning: Precision is ill-defined and being set to 0.0 in labels with no predicted samples. Use `zero_division` parameter to control this behavior.\n",
      "  _warn_prf(average, modifier, f\"{metric.capitalize()} is\", len(result))\n"
     ]
    }
   ],
   "source": [
    "# ----------------- Course Model -----------------\n",
    "y_course = df[\"Courses\"]\n",
    "X_train_c, X_test_c, y_train_c, y_test_c = train_test_split(X, y_course, test_size=0.2, random_state=42)\n",
    "\n",
    "course_model = LogisticRegression(max_iter=200)\n",
    "course_model.fit(X_train_c, y_train_c)\n",
    "y_pred_c = course_model.predict(X_test_c)\n",
    "print(\"Course Recommender Evaluation:\\n\", classification_report(y_test_c, y_pred_c))"
   ]
  },
  {
   "cell_type": "code",
   "execution_count": 49,
   "metadata": {},
   "outputs": [
    {
     "name": "stdout",
     "output_type": "stream",
     "text": [
      "Certification Recommender Evaluation:\n",
      "                                                precision    recall  f1-score   support\n",
      "\n",
      "                      Customer Service Expert       0.00      0.00      0.00       153\n",
      "      Customer Service Expert, Excel Advanced       0.00      0.00      0.00        92\n",
      "Customer Service Expert, Salesforce Certified       0.00      0.00      0.00        77\n",
      "                               Excel Advanced       0.14      0.31      0.20       163\n",
      "      Excel Advanced, Customer Service Expert       0.00      0.00      0.00        83\n",
      "         Excel Advanced, Salesforce Certified       0.00      0.00      0.00        89\n",
      "                         Salesforce Certified       0.18      0.65      0.29       186\n",
      "Salesforce Certified, Customer Service Expert       0.00      0.00      0.00        77\n",
      "         Salesforce Certified, Excel Advanced       0.00      0.00      0.00        80\n",
      "\n",
      "                                     accuracy                           0.17      1000\n",
      "                                    macro avg       0.04      0.11      0.05      1000\n",
      "                                 weighted avg       0.06      0.17      0.09      1000\n",
      "\n"
     ]
    },
    {
     "name": "stderr",
     "output_type": "stream",
     "text": [
      "c:\\Users\\cheta\\anaconda3\\Lib\\site-packages\\sklearn\\metrics\\_classification.py:1531: UndefinedMetricWarning: Precision is ill-defined and being set to 0.0 in labels with no predicted samples. Use `zero_division` parameter to control this behavior.\n",
      "  _warn_prf(average, modifier, f\"{metric.capitalize()} is\", len(result))\n",
      "c:\\Users\\cheta\\anaconda3\\Lib\\site-packages\\sklearn\\metrics\\_classification.py:1531: UndefinedMetricWarning: Precision is ill-defined and being set to 0.0 in labels with no predicted samples. Use `zero_division` parameter to control this behavior.\n",
      "  _warn_prf(average, modifier, f\"{metric.capitalize()} is\", len(result))\n",
      "c:\\Users\\cheta\\anaconda3\\Lib\\site-packages\\sklearn\\metrics\\_classification.py:1531: UndefinedMetricWarning: Precision is ill-defined and being set to 0.0 in labels with no predicted samples. Use `zero_division` parameter to control this behavior.\n",
      "  _warn_prf(average, modifier, f\"{metric.capitalize()} is\", len(result))\n"
     ]
    }
   ],
   "source": [
    "# ----------------- Certification Model -----------------\n",
    "y_cert = df[\"Certifications\"]\n",
    "X_train_ct, X_test_ct, y_train_ct, y_test_ct = train_test_split(X, y_cert, test_size=0.2, random_state=42)\n",
    "\n",
    "cert_model = LogisticRegression(max_iter=200)\n",
    "cert_model.fit(X_train_ct, y_train_ct)\n",
    "y_pred_ct = cert_model.predict(X_test_ct)\n",
    "print(\"Certification Recommender Evaluation:\\n\", classification_report(y_test_ct, y_pred_ct))"
   ]
  },
  {
   "cell_type": "code",
   "execution_count": 50,
   "metadata": {},
   "outputs": [
    {
     "data": {
      "text/plain": [
       "['NonIT_coursecert_tfidf.pkl']"
      ]
     },
     "execution_count": 50,
     "metadata": {},
     "output_type": "execute_result"
    }
   ],
   "source": [
    "# ----------------- Save Models -----------------\n",
    "joblib.dump(course_model, COURSE_MODEL_NAME)\n",
    "joblib.dump(cert_model, CERT_MODEL_NAME)\n",
    "joblib.dump(tfidf, TFIDF_NAME)"
   ]
  }
 ],
 "metadata": {
  "kernelspec": {
   "display_name": "base",
   "language": "python",
   "name": "python3"
  },
  "language_info": {
   "codemirror_mode": {
    "name": "ipython",
    "version": 3
   },
   "file_extension": ".py",
   "mimetype": "text/x-python",
   "name": "python",
   "nbconvert_exporter": "python",
   "pygments_lexer": "ipython3",
   "version": "3.12.7"
  }
 },
 "nbformat": 4,
 "nbformat_minor": 2
}
