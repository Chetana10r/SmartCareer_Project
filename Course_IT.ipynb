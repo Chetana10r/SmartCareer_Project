{
 "cells": [
  {
   "cell_type": "code",
   "execution_count": 34,
   "metadata": {},
   "outputs": [],
   "source": [
    "import pandas as pd\n",
    "import re\n",
    "import string\n",
    "import spacy\n",
    "import joblib\n",
    "from sklearn.feature_extraction.text import TfidfVectorizer\n",
    "from sklearn.linear_model import LogisticRegression\n",
    "from sklearn.model_selection import train_test_split\n",
    "from sklearn.metrics import classification_report"
   ]
  },
  {
   "cell_type": "code",
   "execution_count": 35,
   "metadata": {},
   "outputs": [],
   "source": [
    "# Load SpaCy model\n",
    "nlp = spacy.load(\"en_core_web_sm\")\n"
   ]
  },
  {
   "cell_type": "code",
   "execution_count": 36,
   "metadata": {},
   "outputs": [],
   "source": [
    "# ---------- Parameters ----------\n",
    "DATASET_PATH = \"resume_data_IT_5000_updated.csv\"  # Change for Non-IT\n",
    "SKILL_LIST = ['python', 'java', 'sql', 'excel', 'tableau', 'html', 'css', 'communication', 'teamwork']\n",
    "COURSE_MODEL_NAME = \"IT_course_model.pkl\"\n",
    "CERT_MODEL_NAME = \"IT_cert_model.pkl\"\n",
    "TFIDF_NAME = \"IT_coursecert_tfidf.pkl\""
   ]
  },
  {
   "cell_type": "code",
   "execution_count": 37,
   "metadata": {},
   "outputs": [],
   "source": [
    "# ---------- Text Preprocessing ----------\n",
    "def clean_text(text):\n",
    "    text = re.sub(r\"<[^>]+>\", \"\", text)\n",
    "    text = text.translate(str.maketrans(\"\", \"\", string.punctuation))\n",
    "    text = text.lower()\n",
    "    text = re.sub(r\"\\s+\", \" \", text)\n",
    "    return text\n",
    "\n",
    "def lemmatize_text(text):\n",
    "    doc = nlp(text)\n",
    "    return \" \".join([token.lemma_ for token in doc if not token.is_punct])\n",
    "\n",
    "def extract_skills(text, skill_list):\n",
    "    return [skill for skill in skill_list if skill in text]\n",
    "\n",
    "def get_missing_skills(resume_skills, required_skills_str):\n",
    "    required_skills = [skill.strip().lower() for skill in required_skills_str.split(',')]\n",
    "    return list(set(required_skills) - set(resume_skills))"
   ]
  },
  {
   "cell_type": "code",
   "execution_count": 38,
   "metadata": {},
   "outputs": [],
   "source": [
    "# ---------- Load Data ----------\n",
    "df = pd.read_csv(DATASET_PATH)\n",
    "\n",
    "df[\"combined\"] = df[\"Keywords\"].fillna('') + \" \" + df[\"Technologies\"].fillna('')\n",
    "df[\"cleaned\"] = df[\"combined\"].apply(clean_text).apply(lemmatize_text)\n",
    "df[\"skills_extracted\"] = df[\"cleaned\"].apply(lambda x: extract_skills(x, SKILL_LIST))"
   ]
  },
  {
   "cell_type": "code",
   "execution_count": 39,
   "metadata": {},
   "outputs": [],
   "source": [
    "# ---------- Compute Missing Skills ----------\n",
    "df[\"missing_skills\"] = df.apply(lambda row: get_missing_skills(row[\"skills_extracted\"], row[\"Skills\"]), axis=1)\n",
    "df[\"missing_skills_str\"] = df[\"missing_skills\"].apply(lambda x: \" \".join(x))"
   ]
  },
  {
   "cell_type": "code",
   "execution_count": 40,
   "metadata": {},
   "outputs": [],
   "source": [
    "# ---------- TF-IDF Feature Extraction ----------\n",
    "tfidf = TfidfVectorizer()\n",
    "X = tfidf.fit_transform(df[\"missing_skills_str\"])"
   ]
  },
  {
   "cell_type": "code",
   "execution_count": 41,
   "metadata": {},
   "outputs": [
    {
     "name": "stdout",
     "output_type": "stream",
     "text": [
      "Course Recommender Evaluation:\n",
      "                                                 precision    recall  f1-score   support\n",
      "\n",
      "                                  AWS Training       0.19      0.13      0.15       174\n",
      "              AWS Training, Azure Fundamentals       0.21      0.30      0.24       193\n",
      "      AWS Training, Google Cloud Certification       0.12      0.06      0.08       179\n",
      "                            Azure Fundamentals       0.11      0.10      0.10       142\n",
      "Azure Fundamentals, Google Cloud Certification       0.18      0.23      0.20       150\n",
      "                    Google Cloud Certification       0.16      0.19      0.17       162\n",
      "\n",
      "                                      accuracy                           0.17      1000\n",
      "                                     macro avg       0.16      0.17      0.16      1000\n",
      "                                  weighted avg       0.16      0.17      0.16      1000\n",
      "\n"
     ]
    }
   ],
   "source": [
    "# ---------- Courses Model ----------\n",
    "y_course = df[\"Courses\"]\n",
    "X_train_c, X_test_c, y_train_c, y_test_c = train_test_split(X, y_course, test_size=0.2, random_state=42)\n",
    "\n",
    "course_model = LogisticRegression(max_iter=200)\n",
    "course_model.fit(X_train_c, y_train_c)\n",
    "y_pred_c = course_model.predict(X_test_c)\n",
    "print(\"Course Recommender Evaluation:\\n\", classification_report(y_test_c, y_pred_c))"
   ]
  },
  {
   "cell_type": "code",
   "execution_count": 42,
   "metadata": {},
   "outputs": [
    {
     "name": "stdout",
     "output_type": "stream",
     "text": [
      "Certification Recommender Evaluation:\n",
      "                                           precision    recall  f1-score   support\n",
      "\n",
      "                           AWS Certified       0.17      0.26      0.21       174\n",
      "       AWS Certified, Azure Fundamentals       0.00      0.00      0.00       104\n",
      "     AWS Certified, Google Data Engineer       0.00      0.00      0.00        87\n",
      "                      Azure Fundamentals       0.09      0.13      0.11       142\n",
      "       Azure Fundamentals, AWS Certified       0.00      0.00      0.00        89\n",
      "Azure Fundamentals, Google Data Engineer       0.00      0.00      0.00        81\n",
      "                    Google Data Engineer       0.14      0.45      0.21       162\n",
      "     Google Data Engineer, AWS Certified       0.00      0.00      0.00        92\n",
      "Google Data Engineer, Azure Fundamentals       0.00      0.00      0.00        69\n",
      "\n",
      "                                accuracy                           0.14      1000\n",
      "                               macro avg       0.04      0.09      0.06      1000\n",
      "                            weighted avg       0.07      0.14      0.09      1000\n",
      "\n"
     ]
    },
    {
     "name": "stderr",
     "output_type": "stream",
     "text": [
      "c:\\Users\\cheta\\anaconda3\\Lib\\site-packages\\sklearn\\metrics\\_classification.py:1531: UndefinedMetricWarning: Precision is ill-defined and being set to 0.0 in labels with no predicted samples. Use `zero_division` parameter to control this behavior.\n",
      "  _warn_prf(average, modifier, f\"{metric.capitalize()} is\", len(result))\n",
      "c:\\Users\\cheta\\anaconda3\\Lib\\site-packages\\sklearn\\metrics\\_classification.py:1531: UndefinedMetricWarning: Precision is ill-defined and being set to 0.0 in labels with no predicted samples. Use `zero_division` parameter to control this behavior.\n",
      "  _warn_prf(average, modifier, f\"{metric.capitalize()} is\", len(result))\n",
      "c:\\Users\\cheta\\anaconda3\\Lib\\site-packages\\sklearn\\metrics\\_classification.py:1531: UndefinedMetricWarning: Precision is ill-defined and being set to 0.0 in labels with no predicted samples. Use `zero_division` parameter to control this behavior.\n",
      "  _warn_prf(average, modifier, f\"{metric.capitalize()} is\", len(result))\n"
     ]
    }
   ],
   "source": [
    "# ---------- Certifications Model ----------\n",
    "y_cert = df[\"Certifications\"]\n",
    "X_train_ct, X_test_ct, y_train_ct, y_test_ct = train_test_split(X, y_cert, test_size=0.2, random_state=42)\n",
    "\n",
    "cert_model = LogisticRegression(max_iter=200)\n",
    "cert_model.fit(X_train_ct, y_train_ct)\n",
    "y_pred_ct = cert_model.predict(X_test_ct)\n",
    "print(\"Certification Recommender Evaluation:\\n\", classification_report(y_test_ct, y_pred_ct))"
   ]
  },
  {
   "cell_type": "code",
   "execution_count": 43,
   "metadata": {},
   "outputs": [
    {
     "data": {
      "text/plain": [
       "['IT_coursecert_tfidf.pkl']"
      ]
     },
     "execution_count": 43,
     "metadata": {},
     "output_type": "execute_result"
    }
   ],
   "source": [
    "# ---------- Save Models ----------\n",
    "joblib.dump(course_model, COURSE_MODEL_NAME)\n",
    "joblib.dump(cert_model, CERT_MODEL_NAME)\n",
    "joblib.dump(tfidf, TFIDF_NAME)"
   ]
  }
 ],
 "metadata": {
  "kernelspec": {
   "display_name": "base",
   "language": "python",
   "name": "python3"
  },
  "language_info": {
   "codemirror_mode": {
    "name": "ipython",
    "version": 3
   },
   "file_extension": ".py",
   "mimetype": "text/x-python",
   "name": "python",
   "nbconvert_exporter": "python",
   "pygments_lexer": "ipython3",
   "version": "3.12.7"
  }
 },
 "nbformat": 4,
 "nbformat_minor": 2
}
